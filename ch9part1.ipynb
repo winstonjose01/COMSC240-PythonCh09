{
 "cells": [
  {
   "cell_type": "markdown",
   "metadata": {},
   "source": [
    "<style>\n",
    "\th1 {\n",
    "\t--\tbackground-color: grey;\n",
    "\t\tcolor: yellow\n",
    "\t\tborder: 3px solid grey\n",
    "\n",
    "\t}\n",
    "\tp {\n",
    "\t\tbackground-color: grey;\n",
    "\t\tcolor: white\n",
    "\t\tborder: 3px solid grey\n",
    "\n",
    "\t}\n",
    "</style>\n",
    "<h1> Chapter 9 Dictionary and File Handling: Part 1</h1>"
   ]
  },
  {
   "cell_type": "markdown",
   "metadata": {},
   "source": [
    "<p style=\"margin-left:40px\"> 9.1 Basic Examples of Dictionary</p>\n",
    "\n",
    "<p style=\"margin-left:40px\"> 9.2 File I/O </p>\n",
    "\n",
    "<p style=\"margin-left:40px\"> 9.3 File I/O with Dictionary </p>\n"
   ]
  },
  {
   "cell_type": "markdown",
   "metadata": {},
   "source": [
    "***\n",
    "\n",
    "## <p style=\"background-color: grey; color: white \"> ◼️  Dictionary </p>\n",
    "# <p style=\"font-family: Arial; font-size:1.4em;color:red;\"> 1. Basic Examples of Dictionary</p>\n"
   ]
  },
  {
   "cell_type": "markdown",
   "metadata": {},
   "source": [
    "A `dict` (short for dictionary) is a collection of key-value pairs, where each key is unique and is used to access its associated value. It is an unordered, mutable, and indexed collection that allows for fast data retrieval.\n",
    "\n",
    "### Key Characteristics:\n",
    "- **Mutable**: You can change the values of existing keys or add new key-value pairs.\n",
    "- **Unique Keys**: Keys must be unique, though values can be duplicated.\n",
    "- **Unordered**: Python dictionaries do not maintain the order of items (before Python 3.7), but starting from Python 3.7, they maintain insertion order.\n"
   ]
  },
  {
   "cell_type": "markdown",
   "metadata": {},
   "source": [
    "<style>\n",
    "\th3{\n",
    "\t\tbackground-color: grey\n",
    "\t\tcolor: white\n",
    "\t}\n",
    "</style>\n",
    "\n",
    "<h1> Initialization the Dictionary </h1>\n",
    "<a href=\"https://docs.python.org/3/library/stdtypes.html#mapping-types-dict\"> Python Official Documentation </a>\n",
    "\n",
    "\n"
   ]
  },
  {
   "cell_type": "markdown",
   "metadata": {},
   "source": [
    "<!DOCTYPE html>\n",
    "<html lang=\"en\">\n",
    "<head>\n",
    "    <meta charset=\"UTF-8\">\n",
    "    <meta name=\"viewport\" content=\"width=device-width, initial-scale=1.0\">\n",
    "    <title>Two Rows Three Columns</title>\n",
    "    <style>\n",
    "        table {\n",
    "            width: 50%;\n",
    "            border-collapse: collapse;\n",
    "        }\n",
    "        th, td {\n",
    "            border: 1px solid black;\n",
    "            padding: 10px;\n",
    "            text-align: center;\n",
    "        }\n",
    "    </style>\n",
    "</head>\n",
    "<body>\n",
    "    <h2>Student Information</h2>\n",
    "    <table>\n",
    "        <tr>\n",
    "            <th>ID</th>\n",
    "            <th>Name</th>\n",
    "            <th>Score</th>\n",
    "        </tr>\n",
    "        <tr>\n",
    "            <td>900123456</td>\n",
    "            <td>John Lee</td>\n",
    "            <td>[100, 90, 80]</td>\n",
    "        </tr\n",
    "\n",
    "### Make a dictionary by using the following methods"
   ]
  },
  {
   "cell_type": "code",
   "execution_count": 1,
   "metadata": {},
   "outputs": [
    {
     "data": {
      "text/plain": [
       "{'ID': 900123456, 'Name': 'John Lee', 'Score': [100, 90, 80]}"
      ]
     },
     "execution_count": 1,
     "metadata": {},
     "output_type": "execute_result"
    }
   ],
   "source": [
    "# (1) \n",
    "dict1 = dict(ID=900123456, Name=\"John Lee\", Score=[100, 90, 80])\n",
    "dict1"
   ]
  },
  {
   "cell_type": "code",
   "execution_count": 2,
   "metadata": {},
   "outputs": [
    {
     "data": {
      "text/plain": [
       "{'ID': 900123456, 'Name': 'John Lee', 'Score': [100, 90, 80]}"
      ]
     },
     "execution_count": 2,
     "metadata": {},
     "output_type": "execute_result"
    }
   ],
   "source": [
    "# [2]\n",
    "dict2 = dict({'ID':900123456, 'Name':'John Lee', 'Score':[100, 90, 80]})\n",
    "dict2"
   ]
  },
  {
   "cell_type": "code",
   "execution_count": 7,
   "metadata": {},
   "outputs": [
    {
     "data": {
      "text/plain": [
       "{'ID': 900123456, 'Name': 'John Lee', 'Score': [100, 90, 80]}"
      ]
     },
     "execution_count": 7,
     "metadata": {},
     "output_type": "execute_result"
    }
   ],
   "source": [
    "# [3]\n",
    "dict3 = dict([('ID', 900123456), ('Name', 'John Lee'), ('Score', [100, 90, 80])])\n",
    "dict3"
   ]
  },
  {
   "cell_type": "code",
   "execution_count": 9,
   "metadata": {},
   "outputs": [
    {
     "data": {
      "text/plain": [
       "{'ID': 900123456, 'Name': 'John Lee', 'Score': [100, 90, 80]}"
      ]
     },
     "execution_count": 9,
     "metadata": {},
     "output_type": "execute_result"
    }
   ],
   "source": [
    "dict4 = dict(zip(['ID', 'Name', 'Score'], [900123456, 'John Lee', [100, 90, 80]]))\n",
    "dict4"
   ]
  },
  {
   "cell_type": "markdown",
   "metadata": {},
   "source": [
    "#### <p style=\"font-family: Arial; font-size:1.4em; background-color: yellow; color:black;\"> Problem #1.0 </p>\n",
    "\n",
    "#### Make a dictionary with the following keys and values\n",
    "- keys: {'CRN', 'CourseTitle', 'CourseCredit', 'CourseGrade'}\n",
    "- values: {'COMSC240', 'Advanced PythonProgramming', 3, 'A'}"
   ]
  },
  {
   "cell_type": "markdown",
   "metadata": {},
   "source": [
    "#### Use any of the methods above to make the dictionary\n",
    "#### Code the solution in the cell below"
   ]
  },
  {
   "cell_type": "code",
   "execution_count": 30,
   "metadata": {},
   "outputs": [
    {
     "name": "stdout",
     "output_type": "stream",
     "text": [
      "{'CRN': 'COMSC240', 'CourseTitle': 'Advanced PythonProgramming', 'CourseCredit': 3, 'CourseGrade': 'A'}\n",
      "{'CRN': 'COMSC240', 'CourseTitle': 'Advanced PythonProgramming', 'CourseCredit': 3, 'CourseGrade': 'A'}\n",
      "{'CRN': 'COMSC240', 'CourseTitle': 'Advanced PythonProgramming', 'CourseCredit': 3, 'CourseGrade': 'A'}\n",
      "{'CRN': 'COMSC240', 'CourseTitle': 'Advanced PythonProgramming', 'CourseCredit': 3, 'CourseGrade': 'A'}\n",
      "{'CourseCredit': 'COMSC240', 'CRN': 'A', 'CourseTitle': 3, 'CourseGrade': 'Advanced PythonProgramming'}\n"
     ]
    }
   ],
   "source": [
    "# code here\n",
    "keys = {'CRN', 'CourseTitle', 'CourseCredit', 'CourseGrade'}\n",
    "values= {'COMSC240', 'Advanced PythonProgramming', 3, 'A'}\n",
    "\n",
    "dict1 = dict(CRN='COMSC240', CourseTitle ='Advanced PythonProgramming', CourseCredit=3, CourseGrade='A')\n",
    "print(dict1)\n",
    "dict2 = dict({'CRN':'COMSC240', 'CourseTitle':'Advanced PythonProgramming', 'CourseCredit':3, 'CourseGrade':'A'})\n",
    "print(dict2)\n",
    "dict3 = dict([('CRN','COMSC240'),('CourseTitle','Advanced PythonProgramming'),('CourseCredit',3),('CourseGrade','A')])\n",
    "print(dict3)\n",
    "dict4 = dict(zip(['CRN', 'CourseTitle', 'CourseCredit', 'CourseGrade'],['COMSC240','Advanced PythonProgramming',3,'A']))\n",
    "print(dict4)\n"
   ]
  },
  {
   "cell_type": "markdown",
   "metadata": {},
   "source": [
    "---\n",
    "<style>\n",
    "\th3{\n",
    "\t\tbackground-color: grey\n",
    "\t\tcolor: white\n",
    "\t}\n",
    "</style>\n",
    "\n",
    "<h1> Accessing Elements in the Dictionary </h1>\n",
    "<a href=\"https://docs.python.org/3/library/stdtypes.html#mapping-types-dict\"> Python Official Documentation </a>\n",
    "\n",
    "\n"
   ]
  },
  {
   "cell_type": "markdown",
   "metadata": {},
   "source": [
    "Accessing elements in a dictionary is done using the keys. You can retrieve the value associated with a specific key using the following syntax:\n",
    "\n",
    "```python\n",
    "value = dictionary[key]\n",
    "```\n"
   ]
  },
  {
   "cell_type": "code",
   "execution_count": 32,
   "metadata": {},
   "outputs": [
    {
     "data": {
      "text/plain": [
       "'Advanced Python Programming'"
      ]
     },
     "execution_count": 32,
     "metadata": {},
     "output_type": "execute_result"
    }
   ],
   "source": [
    "courses= dict(CRN='COMSC240', CourseTitle='Advanced Python Programming', CourseCredit=3, CourseGrade='A')\n",
    "courses['CourseTitle']"
   ]
  },
  {
   "cell_type": "markdown",
   "metadata": {},
   "source": [
    "### How to print all element with key value pairs\n",
    "```python\n",
    "for key, value in courses.items():\n",
    "    print(f\"{key}: {value}\")\n",
    "```\n"
   ]
  },
  {
   "cell_type": "markdown",
   "metadata": {},
   "source": [
    "### How to print all keys\n",
    "```python\n",
    "for key in courses.keys():\n",
    "    print(key)\n",
    "```\n"
   ]
  },
  {
   "cell_type": "markdown",
   "metadata": {},
   "source": [
    "### How to print all values\n",
    "```python\n",
    "for value in courses.values():\n",
    "    print(value)\n",
    "```\n"
   ]
  },
  {
   "cell_type": "markdown",
   "metadata": {},
   "source": [
    "### How to print all values according to the keys\n",
    "```python\n",
    "for key in courses.keys():\n",
    "    print(courses[key])\n",
    "```"
   ]
  },
  {
   "cell_type": "markdown",
   "metadata": {},
   "source": [
    "### How to check if a key exists in the dictionary\n",
    "```python\n",
    "if 'CourseTitle' in courses:\n",
    "    print(\"Yes, 'CourseTitle' is one of the keys in the course_info dictionary\")\n",
    "```"
   ]
  },
  {
   "cell_type": "markdown",
   "metadata": {},
   "source": [
    "### How to find the key from the value  \n",
    "```python\n",
    "list(courses.keys())[list(courses.values()).index('Advanced Python Programming')]\n",
    "```"
   ]
  },
  {
   "cell_type": "code",
   "execution_count": 19,
   "metadata": {},
   "outputs": [
    {
     "data": {
      "text/plain": [
       "'CourseTitle'"
      ]
     },
     "execution_count": 19,
     "metadata": {},
     "output_type": "execute_result"
    }
   ],
   "source": [
    "list(courses.keys())[list(courses.values()).index('Advanced Python Programming')]\n",
    "# breakdown the above code\n",
    "idx = list(courses.values()).index('Advanced Python Programming')\n",
    "list(courses.keys())[idx]\n"
   ]
  },
  {
   "cell_type": "markdown",
   "metadata": {},
   "source": [
    "#### <p style=\"font-family: Arial; font-size:1.4em; background-color: yellow; color:black;\"> Problem #1.1 </p>\n",
    "\n",
    "#### Make a LIST of dictionary \"course\" with the following keys and values\n",
    "\n",
    "\n",
    "<!DOCTYPE html>\n",
    "<html lang=\"en\">\n",
    "<head>\n",
    "    <meta charset=\"UTF-8\">\n",
    "    <meta name=\"viewport\" content=\"width=device-width, initial-scale=1.0\">\n",
    "    <title>Course Information</title>\n",
    "    <style>\n",
    "        table {\n",
    "            width: 60%;\n",
    "            border-collapse: collapse;\n",
    "            margin: 20px 0;\n",
    "        }\n",
    "        th, td {\n",
    "            border: 1px solid black;\n",
    "            padding: 10px;\n",
    "            text-align: left;\n",
    "        }\n",
    "    </style>\n",
    "</head>\n",
    "<body>\n",
    "    <h2>Course Information</h2>\n",
    "    <table>\n",
    "        <tr>\n",
    "            <th>CRN</th>\n",
    "            <th>Course Title</th>\n",
    "            <th>Course Credit</th>\n",
    "            <th>Course Grade</th>\n",
    "        </tr>\n",
    "        <tr>\n",
    "            <td>COMSC240</td>\n",
    "            <td>Advanced Python Programming</td>\n",
    "            <td>3</td>\n",
    "            <td>A</td>\n",
    "        </tr>\n",
    "        <tr>\n",
    "            <td>COMSC140</td>\n",
    "            <td>Intro to Python Programming</td>\n",
    "            <td>3</td>\n",
    "            <td>B</td>\n",
    "        </tr>\n",
    "        <tr>\n",
    "            <td>COMSC340</td>\n",
    "            <td>Data Structure</td>\n",
    "            <td>3</td>\n",
    "            <td>A</td>\n",
    "        </tr>\n",
    "        <tr>\n",
    "            <td>COMSC440</td>\n",
    "            <td>Database</td>\n",
    "            <td>3</td>\n",
    "            <td>B</td>\n",
    "        </tr>\n",
    "    </table>\n",
    "</body>\n",
    "</html>\n"
   ]
  },
  {
   "cell_type": "code",
   "execution_count": 86,
   "metadata": {},
   "outputs": [
    {
     "data": {
      "text/plain": [
       "[{'CRN': 'COMSC240',\n",
       "  'CourseTitle': 'Advanced Python Programming',\n",
       "  'CourseCredit': 3,\n",
       "  'CourseGrade': 'A'},\n",
       " {'CRN': 'COMSC140',\n",
       "  'CourseTitle': 'Intro to Python Programming',\n",
       "  'CourseCredit': 3,\n",
       "  'CourseGrade': 'B'},\n",
       " {'CRN': 'COMSC340',\n",
       "  'CourseTitle': 'Data Structure',\n",
       "  'CourseCredit': 3,\n",
       "  'CourseGrade': 'A'},\n",
       " {'CRN': 'COMSC440',\n",
       "  'CourseTitle': 'Database',\n",
       "  'CourseCredit': 3,\n",
       "  'CourseGrade': 'B'}]"
      ]
     },
     "execution_count": 86,
     "metadata": {},
     "output_type": "execute_result"
    }
   ],
   "source": [
    "## Code Here\n",
    "## No neeed to make a loop to make the dictionary\n",
    "## Use the naive way with hard coding like {'CRN': 'COMSC240', and so on}\n",
    "\n",
    "course = [{'CRN':'COMSC240', 'CourseTitle':'Advanced Python Programming', 'CourseCredit':3, 'CourseGrade':'A'}, \n",
    "          {'CRN':'COMSC140', 'CourseTitle':'Intro to Python Programming', 'CourseCredit':3, 'CourseGrade':'B'},\n",
    "          {'CRN':'COMSC340', 'CourseTitle':'Data Structure', 'CourseCredit':3, 'CourseGrade':'A'},\n",
    "          {'CRN':'COMSC440', 'CourseTitle':'Database', 'CourseCredit':3, 'CourseGrade':'B'}\n",
    "        ]\n",
    "course"
   ]
  },
  {
   "cell_type": "markdown",
   "metadata": {},
   "source": [
    "#### <p style=\"font-family: Arial; font-size:1.4em; background-color: yellow; color:black;\"> Problem #1.1 </p>\n",
    "\n",
    "#### Make a code to print all the elements in the list of dictionary \"course\""
   ]
  },
  {
   "cell_type": "code",
   "execution_count": 87,
   "metadata": {},
   "outputs": [
    {
     "name": "stdout",
     "output_type": "stream",
     "text": [
      "CRN : COMSC240\n",
      "CourseTitle : Advanced Python Programming\n",
      "CourseCredit : 3\n",
      "CourseGrade : A\n",
      "CRN : COMSC140\n",
      "CourseTitle : Intro to Python Programming\n",
      "CourseCredit : 3\n",
      "CourseGrade : B\n",
      "CRN : COMSC340\n",
      "CourseTitle : Data Structure\n",
      "CourseCredit : 3\n",
      "CourseGrade : A\n",
      "CRN : COMSC440\n",
      "CourseTitle : Database\n",
      "CourseCredit : 3\n",
      "CourseGrade : B\n"
     ]
    }
   ],
   "source": [
    "## Code Here\n",
    "for i in range(len(course)):\n",
    "    for key,values in course[i].items():\n",
    "        print (f\"{key} : {values}\")"
   ]
  },
  {
   "cell_type": "markdown",
   "metadata": {},
   "source": [
    "#### <p style=\"font-family: Arial; font-size:1.4em; background-color: yellow; color:black;\"> Problem #1.2 </p>\n",
    "\n",
    "### Make a code to change the course credit to 4 for the courses which CourseGrade is 'A'\n"
   ]
  },
  {
   "cell_type": "code",
   "execution_count": 88,
   "metadata": {},
   "outputs": [
    {
     "name": "stdout",
     "output_type": "stream",
     "text": [
      "CRN : COMSC240\n",
      "CourseTitle : Advanced Python Programming\n",
      "CourseCredit : 4\n",
      "CourseGrade : A\n",
      "CRN : COMSC140\n",
      "CourseTitle : Intro to Python Programming\n",
      "CourseCredit : 3\n",
      "CourseGrade : B\n",
      "CRN : COMSC340\n",
      "CourseTitle : Data Structure\n",
      "CourseCredit : 4\n",
      "CourseGrade : A\n",
      "CRN : COMSC440\n",
      "CourseTitle : Database\n",
      "CourseCredit : 3\n",
      "CourseGrade : B\n"
     ]
    }
   ],
   "source": [
    "## Code Here\n",
    "for i in range(len(course)):\n",
    "    for key,value in course[i].items():\n",
    "        if course[i]['CourseGrade'] == 'A':\n",
    "            course[i]['CourseCredit'] = 4\n",
    "        print(f\"{key} : {value}\")\n"
   ]
  },
  {
   "cell_type": "markdown",
   "metadata": {},
   "source": [
    "#### <p style=\"font-family: Arial; font-size:1.4em; background-color: yellow; color:black;\"> Problem #1.3 </p>\n",
    "\n",
    "### Make a code to print the sum of all credits for the courses which includes 'Python' in the CourseTitle\n"
   ]
  },
  {
   "cell_type": "code",
   "execution_count": 102,
   "metadata": {},
   "outputs": [
    {
     "name": "stdout",
     "output_type": "stream",
     "text": [
      "Total of all credits for course which include 'Python'= 7\n"
     ]
    }
   ],
   "source": [
    "## Code Here\n",
    "a=0\n",
    "for i in range(len(course)):\n",
    "    if 'Python'in course[i]['CourseTitle']:\n",
    "        a += course[i]['CourseCredit']\n",
    "\n",
    "print (f\"Total of all credits for course which include 'Python'= {a}\")\n"
   ]
  },
  {
   "cell_type": "markdown",
   "metadata": {},
   "source": [
    "#### <p style=\"font-family: Arial; font-size:1.4em; background-color: yellow; color:black;\"> Problem #1.4 </p>\n",
    "\n",
    "### Make a code to construct a dictionary course with the following lists of keys and values.\n",
    "```python\n",
    "keys =  ['CRN', 'CourseTitle', 'CourseCredit', 'CourseGrade']\n",
    "values =  [ ['COMSC240', 'Advanced Python Programming', 3, 'A'], \n",
    "            ['COMSC140', 'Intro to Python Programming', 3, 'B'], \n",
    "            ['COMSC340', 'Data Structure', 3, 'A'], \n",
    "            ['COMSC440', 'Database', 3, 'B'] ]\n",
    "```\n",
    "\n",
    "#### [Tip] Use the zip function to combine the keys and values"
   ]
  },
  {
   "cell_type": "code",
   "execution_count": 133,
   "metadata": {},
   "outputs": [
    {
     "data": {
      "text/plain": [
       "[{'CRN': 'COMSC240',\n",
       "  'CourseTitle': 'Advanced Python Programming',\n",
       "  'CourseCredit': 3,\n",
       "  'CourseGrade': 'A'},\n",
       " {'CRN': 'COMSC140',\n",
       "  'CourseTitle': 'Intro to Python Programming',\n",
       "  'CourseCredit': 3,\n",
       "  'CourseGrade': 'B'},\n",
       " {'CRN': 'COMSC340',\n",
       "  'CourseTitle': 'Data Structure',\n",
       "  'CourseCredit': 3,\n",
       "  'CourseGrade': 'A'},\n",
       " {'CRN': 'COMSC440',\n",
       "  'CourseTitle': 'Database',\n",
       "  'CourseCredit': 3,\n",
       "  'CourseGrade': 'B'}]"
      ]
     },
     "execution_count": 133,
     "metadata": {},
     "output_type": "execute_result"
    }
   ],
   "source": [
    "keys =  ['CRN', 'CourseTitle', 'CourseCredit', 'CourseGrade']\n",
    "values =  [ ['COMSC240', 'Advanced Python Programming', 3, 'A'], \n",
    "            ['COMSC140', 'Intro to Python Programming', 3, 'B'], \n",
    "            ['COMSC340', 'Data Structure', 3, 'A'], \n",
    "            ['COMSC440', 'Database', 3, 'B'] ]\n",
    "course = []\n",
    "## Code Here\n",
    "for k in values:\n",
    "    course.append(dict(zip(keys,k)))\n",
    "course\n"
   ]
  },
  {
   "cell_type": "markdown",
   "metadata": {},
   "source": [
    "<mark> Save your file by pressing \"Ctrl+S\" or \"git commit -m \"your message\"\" </mark> "
   ]
  },
  {
   "cell_type": "markdown",
   "metadata": {},
   "source": [
    "***\n",
    "\n",
    "## <p style=\"background-color: grey; color: white \"> ◼️  File I/O </p>\n",
    "# <p style=\"font-family: Arial; font-size:l.4em;color:red;\"> 2. Basic Examples of File I/O </p>\n"
   ]
  },
  {
   "cell_type": "markdown",
   "metadata": {},
   "source": [
    "In Python, **File I/O (Input/Output)** refers to the process of reading from and writing to files. It allows programs to persist data between executions or handle large datasets. To work with files, you typically use Python's built-in `open()` function, which opens a file in different modes: reading (`'r'`), writing (`'w'`), or appending (`'a'`). You can then perform file operations like reading the content using `read()` or `readlines()` and writing data using `write()` or `writelines()`. After performing operations, it’s essential to close the file using `close()` or utilize the `with` statement to handle files automatically.\n",
    "\n",
    "Example:\n",
    "```python\n",
    "with open(\"example.txt\", \"w\") as file:\n",
    "    file.write(\"Hello, World!\")\n"
   ]
  },
  {
   "cell_type": "markdown",
   "metadata": {},
   "source": [
    "To **read** data from a file in Python, you use the `open()` function with the file mode set to `'r'` (read). The file content can then be accessed using methods such as `read()`, which reads the entire file as a string, `readline()` to read a single line, or `readlines()` to return a list of all lines. Once the file operations are complete, the file should be closed to free up resources, although using the `with` statement ensures the file is automatically closed when you're done.\n",
    "\n",
    "### Example of reading a file:\n",
    "```python\n",
    "with open(\"example.txt\", \"r\") as file:\n",
    "    content = file.read()\n",
    "    print(content)\n"
   ]
  },
  {
   "cell_type": "code",
   "execution_count": 1,
   "metadata": {},
   "outputs": [],
   "source": [
    "## Write a code with the following examples \n",
    "'''\n",
    "Advanced Python Programming\n",
    "COMSC240\n",
    "Asynchronous Online Learning\n",
    "'''\n",
    "\n",
    "with open(\"example.txt\", \"w\") as file:\n",
    "    file.write(\"Advanced Python Programming\\nCOMSC240\\nAsynchronous Online Learning\")\n"
   ]
  },
  {
   "cell_type": "markdown",
   "metadata": {},
   "source": [
    "### Read a single line from the file"
   ]
  },
  {
   "cell_type": "code",
   "execution_count": 2,
   "metadata": {},
   "outputs": [
    {
     "name": "stdout",
     "output_type": "stream",
     "text": [
      "Advanced Python Programming\n",
      "\n"
     ]
    }
   ],
   "source": [
    "## Read the file and print the content\n",
    "with open(\"example.txt\", \"r\") as file:\n",
    "    readline = file.readline()\n",
    "    print(readline)\n"
   ]
  },
  {
   "cell_type": "markdown",
   "metadata": {},
   "source": [
    "### Read the entire lines from the file"
   ]
  },
  {
   "cell_type": "code",
   "execution_count": 3,
   "metadata": {},
   "outputs": [
    {
     "name": "stdout",
     "output_type": "stream",
     "text": [
      "['Advanced Python Programming\\n', 'COMSC240\\n', 'Asynchronous Online Learning']\n"
     ]
    }
   ],
   "source": [
    "with open(\"example.txt\", \"r\") as file:\n",
    "    alllines = file.readlines()\n",
    "    print(alllines)"
   ]
  },
  {
   "cell_type": "code",
   "execution_count": 4,
   "metadata": {},
   "outputs": [
    {
     "name": "stdout",
     "output_type": "stream",
     "text": [
      "Advanced Python Programming\n",
      "COMSC240\n",
      "Asynchronous Online Learning\n"
     ]
    }
   ],
   "source": [
    "with open(\"example.txt\", \"r\") as file:\n",
    "    alllines = file.read()\n",
    "    print(alllines)"
   ]
  },
  {
   "cell_type": "code",
   "execution_count": 5,
   "metadata": {},
   "outputs": [
    {
     "name": "stdout",
     "output_type": "stream",
     "text": [
      "Advanced Python Programming\n",
      "\n",
      "COMSC240\n",
      "\n",
      "Asynchronous Online Learning\n"
     ]
    }
   ],
   "source": [
    "with open(\"example.txt\", \"r\") as file:\n",
    "    for line in file:\n",
    "        print(line)\n"
   ]
  },
  {
   "cell_type": "code",
   "execution_count": 6,
   "metadata": {},
   "outputs": [
    {
     "name": "stdout",
     "output_type": "stream",
     "text": [
      "Advanced Python Programming\n",
      "COMSC240\n",
      "Asynchronous Online Learning\n"
     ]
    }
   ],
   "source": [
    "with open(\"example.txt\", \"r\") as file:\n",
    "    for line in file:\n",
    "        print(line.strip('\\r\\n'))\n"
   ]
  },
  {
   "cell_type": "markdown",
   "metadata": {},
   "source": [
    "### Reading Example Program\n",
    "\n"
   ]
  },
  {
   "cell_type": "markdown",
   "metadata": {},
   "source": [
    "\n",
    "### Code Explanation\n",
    "\n",
    "The program can access individual elements as follows:\n",
    "- `field[0]` for the student ID.\n",
    "- `field[1:3]` for the student's name (joined using `' '.join()`).\n",
    "- `field[3:]` for the scores (converted to integers).\n",
    "\n",
    "These values can be stored in variables or data structures for further processing. Finally, the file is closed using `file.close()`, or preferably, by using a `with` statement to automatically handle file closure.\n",
    "\n",
    "### Sample Code\n",
    "```python\n",
    "with open('students.txt', 'r') as file:\n",
    "    for line in file:\n",
    "        parts = line.split()\n",
    "        student_id = field[0]\n",
    "        name = ' '.join(field[1:3])\n",
    "        scores = [int(score) for score in field[3:]]\n",
    "        # Process the data as needed"
   ]
  },
  {
   "cell_type": "code",
   "execution_count": 7,
   "metadata": {},
   "outputs": [
    {
     "name": "stdout",
     "output_type": "stream",
     "text": [
      "900213 John Doe [100, 90, 80]\n",
      "900214 Jane Doe [90, 80, 70]\n",
      "900215 Jim Beam [80, 70, 60]\n",
      "900216 Jill Hill [70, 60, 50]\n",
      "900217 Jack Daniels [60, 50, 40]\n",
      "900218 Jessie James [50, 40, 30]\n",
      "900219 Joe MacHardy [40, 30, 20]\n",
      "900220 Adam Smith [100, 100, 90]\n",
      "900221 Bill Joel [100, 100, 100]\n",
      "900222 Bob Dylan [90, 90, 90]\n"
     ]
    }
   ],
   "source": [
    "## Make sure that there is a students.txt file in the same directory as your code file\n",
    "\n",
    "with open('students.txt', 'r') as f:\n",
    "    for line in f:\n",
    "        fieldslist = line.split()\n",
    "        student_id = fieldslist[0]\n",
    "        student_name = ' '.join(fieldslist[1:3])\n",
    "        scores = [(int(score)) for score in fieldslist[3:]]\n",
    "        print(student_id, student_name, scores)\n"
   ]
  },
  {
   "cell_type": "markdown",
   "metadata": {},
   "source": [
    "#### <p style=\"font-family: Arial; font-size:1.4em; background-color: yellow; color:black;\"> Problem #2.0 </p>\n",
    "\n",
    "### Make a code to read a file \"people-10.csv\" and print people information by fields\n",
    "```python\n",
    "Data File Explanation\n",
    "   1st field: Index \n",
    "   2nd field: User ID \n",
    "   3rd field: First Name \n",
    "   4th field: Last Name \n",
    "   5th field: Sex \n",
    "   6th field: Email \n",
    "   7th field: Phone Number \n",
    "   8th field: Birthday \n",
    "   9th field: Job Title\n",
    "```\n",
    "```python\n",
    "with open('people-10.csv', 'r') as file:\n",
    "    for line in file:\n",
    "        line = line.strip('\\r\\n')\n",
    "        fieldslist = line.split(',')\n",
    "        print(fieldslist)\n",
    "```"
   ]
  },
  {
   "cell_type": "code",
   "execution_count": 30,
   "metadata": {},
   "outputs": [
    {
     "name": "stdout",
     "output_type": "stream",
     "text": [
      "Index First Name Last Name User Id Sex Email Phone Date of birth Job Title\n",
      "1 Shelby Terrell 88F7B33d2bcf9f5 Male elijah57@example.net 001-084-906-7849x73518 1945-10-26 Games developer\n",
      "2 Phillip Summers f90cD3E76f1A9b9 Female bethany14@example.com 214.112.6044x4913 1910-03-24 Phytotherapist\n",
      "3 Kristine Travis DbeAb8CcdfeFC2c Male bthompson@example.com 277.609.7938 1992-07-02 Homeopath\n",
      "4 Yesenia Martinez A31Bee3c201ef58 Male kaitlinkaiser@example.com 584.094.6111 2017-08-03 Market researcher\n",
      "5 Lori Todd 1bA7A3dc874da3c Male buchananmanuel@example.net 689-207-3558x7233 1938-12-01 Veterinary surgeon\n",
      "6 Erin Day bfDD7CDEF5D865B Male tconner@example.org 001-171-649-9856x5553 2015-10-28 Waste management officer\n",
      "7 Katherine Buck bE9EEf34cB72AF7 Female conniecowan@example.com +1-773-151-6685x49162 1989-01-22 Intelligence analyst\n",
      "8 Ricardo Hinton 2EFC6A4e77FaEaC Male wyattbishop@example.com 001-447-699-7998x88612 1924-03-26 Hydrogeologist\n",
      "9 Dave Farrell baDcC4DeefD8dEB Male nmccann@example.net 603-428-2429x27392 2018-10-06 Lawyer\n",
      "10 Isaiah Downs 8e4FB470FE19bF0 Male virginiaterrell@example.org +1-511-372-1544x8206 1964-09-20 \"Engineer site\"\n"
     ]
    }
   ],
   "source": [
    "## Code here\n",
    "\n",
    "with open('people-10.csv', 'r') as file:\n",
    "    for line in file:\n",
    "        line = line.strip('\\r\\n')\n",
    "        fieldslist = line.split(',')\n",
    "        index = fieldslist[0]\n",
    "        UserID = fieldslist[1]\n",
    "        firstname = fieldslist[2]\n",
    "        lastname = fieldslist[3]\n",
    "        sex = fieldslist[4]\n",
    "        email = fieldslist[5]\n",
    "        phone = fieldslist[6]\n",
    "        birthday = fieldslist[7]\n",
    "        jobtitle = fieldslist[8]\n",
    "        print(index, firstname, lastname, UserID, sex, email, phone, birthday, jobtitle)"
   ]
  },
  {
   "cell_type": "markdown",
   "metadata": {},
   "source": [
    "#### <p style=\"font-family: Arial; font-size:1.4em; background-color: yellow; color:black;\"> Problem #2.1 </p>\n",
    "\n",
    "### Make a code to read a file \"car10lines.data\" and print car information\n",
    "Data File Source: https://archive.ics.uci.edu/dataset/2/car+evaluation\n",
    "```python\n",
    "Data File Explanation\n",
    "   1st field: buying       v-high, high, med, low\n",
    "   2nd field: maint        v-high, high, med, low\n",
    "   3rd field: doors        2, 3, 4, 5-more\n",
    "   4th field: persons      2, 4, more\n",
    "   5th field: lug_boot     small, med, big\n",
    "   6th field: safety       low, med, high\n",
    "   7th field: car evaluation       unacc, acc, good, vgood\n",
    "```\n",
    "```python\n",
    "with open('car10lines.data', 'r') as file:\n",
    "    for line in file:\n",
    "        line = line.strip('\\r\\n')\n",
    "        fieldslist = line.split(',')\n",
    "        print(fieldslist)\n",
    "```"
   ]
  },
  {
   "cell_type": "code",
   "execution_count": 34,
   "metadata": {},
   "outputs": [
    {
     "name": "stdout",
     "output_type": "stream",
     "text": [
      "1 vhigh vhigh 2 2 small low unacc\n",
      "2 vhigh vhigh 2 2 small med unacc\n",
      "3 vhigh vhigh 2 2 small high unacc\n",
      "4 vhigh vhigh 2 2 med low unacc\n",
      "5 vhigh vhigh 2 2 med med unacc\n",
      "6 vhigh vhigh 2 2 med high unacc\n",
      "7 vhigh vhigh 2 2 big low unacc\n",
      "8 vhigh vhigh 2 2 big med unacc\n",
      "9 vhigh vhigh 2 2 big high unacc\n",
      "10 vhigh vhigh 2 4 small low unacc\n"
     ]
    }
   ],
   "source": [
    "# Code Here\n",
    "\n",
    "with open ('car10lines.data', 'r') as file:\n",
    "    i=1\n",
    "    for line in file:\n",
    "        line = line.strip('\\r\\n')\n",
    "        fieldslist = line.split(',')\n",
    "        buying = fieldslist[0]\n",
    "        maint = fieldslist[1]\n",
    "        doors = fieldslist[2]\n",
    "        persons = fieldslist[3]\n",
    "        lug_boot = fieldslist[4]\n",
    "        safety = fieldslist[5]\n",
    "        car_evaluation = fieldslist[6]\n",
    "        print (i,buying, maint, doors, persons, lug_boot, safety, car_evaluation)\n",
    "        i +=1"
   ]
  },
  {
   "cell_type": "markdown",
   "metadata": {},
   "source": [
    "#### <p style=\"font-family: Arial; font-size:1.4em; background-color: yellow; color:black;\"> Problem #2.3 </p>\n",
    "\n",
    "### Make a code to write a file after filtering the data from the file \"people-10.csv\"\n",
    "```python\n",
    "Original File's Field Explanation: File Name: people-10.csv\n",
    "   1st field: Index \n",
    "   2nd field: User ID \n",
    "   3rd field: First Name \n",
    "   4th field: Last Name \n",
    "   5th field: Sex \n",
    "   6th field: Email \n",
    "   7th field: Phone Number \n",
    "   8th field: Birthday \n",
    "   9th field: Job Title\n",
    "   Sample Data: First Line is the header\n",
    "   Index,User Id,First Name,Last Name,Sex,Email,Phone,Date of birth,Job Title\n",
    "   1,88F7B33d2bcf9f5,Shelby,Terrell,Male,elijah57@example.net,001-084-906-7849x73518,1945-10-26,Games developer\n",
    "   2,f90cD3E76f1A9b9,Phillip,Summers,Female,bethany14@example.com,214.112.6044x4913,1910-03-24,Phytotherapist\n",
    "   3,DbeAb8CcdfeFC2c,Kristine,Travis,Male,bthompson@example.com,277.609.7938,1992-07-02,Homeopath\n",
    "   4,A31Bee3c201ef58,Yesenia,Martinez,Male,kaitlinkaiser@example.com,584.094.6111,2017-08-03,Market researcher\n",
    "   5,1bA7A3dc874da3c,Lori,Todd,Male,buchananmanuel@example.net,689-207-3558x7233,1938-12-01,Veterinary surgeon\n",
    "   6,bfDD7CDEF5D865B,Erin,Day,Male,tconner@example.org,001-171-649-9856x5553,2015-10-28,Waste management officer\n",
    "   7,bE9EEf34cB72AF7,Katherine,Buck,Female,conniecowan@example.com,+1-773-151-6685x49162,1989-01-22,Intelligence analyst\n",
    "   8,2EFC6A4e77FaEaC,Ricardo,Hinton,Male,wyattbishop@example.com,001-447-699-7998x88612,1924-03-26,Hydrogeologist\n",
    "   9,baDcC4DeefD8dEB,Dave,Farrell,Male,nmccann@example.net,603-428-2429x27392,2018-10-06,Lawyer\n",
    "   10,8e4FB470FE19bF0,Isaiah,Downs,Male,virginiaterrell@example.org,+1-511-372-1544x8206,1964-09-20,\"Engineer site\"\n",
    "```\n",
    "```python\n",
    "New File's Field Explanation: File Name: people-filtered.txt\n",
    "   1st field: User ID \n",
    "   2nd field: Combined Name(First Name, Last Name)\n",
    "   3rd field: Sex \n",
    "   4th field: Email \n",
    "   5th field: Phone Number \n",
    "   6th field: Birthday \n",
    "   Sample Data Output:\n",
    "   Index\tUser Id\tFirst Name Last Name\tSex\tEmail\tPhone\tDate of birth\tJob Title\t\n",
    "    1\t88F7B33d2bcf9f5\tShelby Terrell\tMale\telijah57@example.net\t001-084-906-7849x73518\t1945-10-26\tGames developer\t\n",
    "    2\tf90cD3E76f1A9b9\tPhillip Summers\tFemale\tbethany14@example.com\t214.112.6044x4913\t1910-03-24\tPhytotherapist\t\n",
    "    3\tDbeAb8CcdfeFC2c\tKristine Travis\tMale\tbthompson@example.com\t277.609.7938\t1992-07-02\tHomeopath\t\n",
    "    4\tA31Bee3c201ef58\tYesenia Martinez\tMale\tkaitlinkaiser@example.com\t584.094.6111\t2017-08-03\tMarket researcher\t\n",
    "    5\t1bA7A3dc874da3c\tLori Todd\tMale\tbuchananmanuel@example.net\t689-207-3558x7233\t1938-12-01\tVeterinary surgeon\t\n",
    "    6\tbfDD7CDEF5D865B\tErin Day\tMale\ttconner@example.org\t001-171-649-9856x5553\t2015-10-28\tWaste management officer\t\n",
    "    7\tbE9EEf34cB72AF7\tKatherine Buck\tFemale\tconniecowan@example.com\t+1-773-151-6685x49162\t1989-01-22\tIntelligence analyst\t\n",
    "    8\t2EFC6A4e77FaEaC\tRicardo Hinton\tMale\twyattbishop@example.com\t001-447-699-7998x88612\t1924-03-26\tHydrogeologist\t\n",
    "    9\tbaDcC4DeefD8dEB\tDave Farrell\tMale\tnmccann@example.net\t603-428-2429x27392\t2018-10-06\tLawyer\t\n",
    "    10\t8e4FB470FE19bF0\tIsaiah Downs\tMale\tvirginiaterrell@example.org\t+1-511-372-1544x8206\t1964-09-20\t\"Engineer site\" \t\n",
    "```\n",
    "```python\n",
    "with open('people-10.csv', 'r') as readfile:\n",
    "    with open('people-filtered.txt', 'w') as writefile:\n",
    "        for line in readfile:\n",
    "            line = line.strip('\\r\\n')\n",
    "            fieldslist = line.split(',')\n",
    "            for i, field in enumerate(fieldslist): \n",
    "                if i == 3:\n",
    "                    continue\n",
    "                if i == 2:\n",
    "                    field = fieldslist[i] + ' ' + fieldslist[i+1]\n",
    "                writefile.write(field+'\\t')\n",
    "            writefile.write('\\n')\n",
    "                     \n",
    "```"
   ]
  },
  {
   "cell_type": "code",
   "execution_count": 37,
   "metadata": {},
   "outputs": [],
   "source": [
    "## Code Here\n",
    "with open('people-10.csv', 'r') as readfile:\n",
    "    with open('people-filtered.txt', 'w') as writefile:\n",
    "        for line in readfile:\n",
    "            fieldslist = line.split(',')\n",
    "            for i,field in enumerate(fieldslist):\n",
    "                if i == 3:\n",
    "                    continue\n",
    "                if i == 2:\n",
    "                    field = fieldslist[i] + ' ' + fieldslist[i+1]\n",
    "                writefile.write(field + '\\t')\n",
    "            writefile.write('\\n')"
   ]
  },
  {
   "cell_type": "markdown",
   "metadata": {},
   "source": [
    "***\n",
    "\n",
    "## <p style=\"background-color: grey; color: white \"> ◼️  File and Dictionary </p>\n",
    "# <p style=\"font-family: Arial; font-size:l.4em;color:red;\"> 3. Constructing a List of Dictionaries from a File </p>\n"
   ]
  },
  {
   "cell_type": "markdown",
   "metadata": {},
   "source": [
    "#### <p style=\"font-family: Arial; font-size:1.4em; background-color: yellow; color:black;\"> Problem #3.1 </p>\n",
    "\n",
    "### Make a function 'make_people_dict()' to construct a list of dictionary from the file 'people-10.csv'\n",
    "<table> <tr> <th>Index</th> <th>UserID</th> <th>FirstName</th> <th>LastName</th> <th>Sex</th> <th>Email</th> <th>Phone</th> <th>DOB</th> <th>JobTitle</th> </tr> <tr> <td>1</td> <td>88F7B33d2bcf9f5</td> <td>Shelby</td> <td>Terrell</td> <td>Male</td> <td>elijah57@example.net</td> <td>001-084-906-7849x73518</td> <td>1945-10-26</td> <td>Games developer</td> </tr> <tr> <td>2</td> <td>f90cD3E76f1A9b9</td> <td>Phillip</td> <td>Summers</td> <td>Female</td> <td>bethany14@example.com</td> <td>214.112.6044x4913</td> <td>1910-03-24</td> <td>Phytotherapist</td> </tr> <tr> <td>3</td> <td>DbeAb8CcdfeFC2c</td> <td>Kristine</td> <td>Travis</td> <td>Male</td> <td>bthompson@example.com</td> <td>277.609.7938</td> <td>1992-07-02</td> <td>Homeopath</td> </tr> <tr> <td>4</td> <td>A31Bee3c201ef58</td> <td>Yesenia</td> <td>Martinez</td> <td>Male</td> <td>kaitlinkaiser@example.com</td> <td>584.094.6111</td> <td>2017-08-03</td> <td>Market researcher</td> </tr> <tr> <td>5</td> <td>1bA7A3dc874da3c</td> <td>Lori</td> <td>Todd</td> <td>Male</td> <td>buchananmanuel@example.net</td> <td>689-207-3558x7233</td> <td>1938-12-01</td> <td>Veterinary surgeon</td> </tr> <tr> <td>6</td> <td>bfDD7CDEF5D865B</td> <td>Erin</td> <td>Day</td> <td>Male</td> <td>tconner@example.org</td> <td>001-171-649-9856x5553</td> <td>2015-10-28</td> <td>Waste management officer</td> </tr> <tr> <td>7</td> <td>bE9EEf34cB72AF7</td> <td>Katherine</td> <td>Buck</td> <td>Female</td> <td>conniecowan@example.com</td> <td>+1-773-151-6685x49162</td> <td>1989-01-22</td> <td>Intelligence analyst</td> </tr> <tr> <td>8</td> <td>2EFC6A4e77FaEaC</td> <td>Ricardo</td> <td>Hinton</td> <td>Male</td> <td>wyattbishop@example.com</td> <td>001-447-699-7998x88612</td> <td>1924-03-26</td> <td>Hydrogeologist</td> </tr> <tr> <td>9</td> <td>baDcC4DeefD8dEB</td> <td>Dave</td> <td>Farrell</td> <td>Male</td> <td>nmccann@example.net</td> <td>603-428-2429x27392</td> <td>2018-10-06</td> <td>Lawyer</td> </tr> <tr> <td>10</td> <td>8e4FB470FE19bF0</td> <td>Isaiah</td> <td>Downs</td> <td>Male</td> <td>virginiaterrell@example.org</td> <td>+1-511-372-1544x8206</td> <td>1964-09-20</td> <td>Engineer site</td> </tr> </table>\n",
    "\n",
    "\n",
    "### Keys: \n",
    "- Index, UserID, FirstName, LastName, Sex, Email, Phone, DOB, JobTitle\n",
    "### Values: \n",
    "- 1, 88F7B33d2bcf9f5, Shelby, Terrell, Male, elijah57@example.net, 001-084-906-7849x73518, 1945-10-26, Games developer\n",
    "- 2, f90cD3E76f1A9b9, Phillip Summers, Female, bethany14@example.com, 214.112.6044x4913, 1910-03-24, Phytotherapist\n",
    "- ...\n",
    "\n",
    "\n",
    "```python\n",
    "    Step 1. Read the file \"people-10.csv\"\n",
    "    Step 2. Construct a list of dictionary from the file\n",
    "        key = ['Index', 'UserID', 'FirstName', 'LastName', 'Sex', 'Email', 'Phone', 'DOB', 'JobTitle']\n",
    "        Hint: Use the zip function with keys and the fieldslist from the file and dict() constructor. \n",
    "    Step 3. Print the list of dictionary\n",
    "```"
   ]
  },
  {
   "cell_type": "code",
   "execution_count": 60,
   "metadata": {},
   "outputs": [
    {
     "name": "stdout",
     "output_type": "stream",
     "text": [
      "Index\t\tUserID\t\tFirstName\t\tLastName\t\tSex\t\tEmail\t\tPhone\t\tDOB\t\tJobTitle\n",
      "1\t\t88F7B33d2bcf9f5\t\tShelby\t\tTerrell\t\tMale\t\telijah57@example.net\t\t001-084-906-7849x73518\t\t1945-10-26\t\tGames developer\n",
      "2\t\tf90cD3E76f1A9b9\t\tPhillip\t\tSummers\t\tFemale\t\tbethany14@example.com\t\t214.112.6044x4913\t\t1910-03-24\t\tPhytotherapist\n",
      "3\t\tDbeAb8CcdfeFC2c\t\tKristine\t\tTravis\t\tMale\t\tbthompson@example.com\t\t277.609.7938\t\t1992-07-02\t\tHomeopath\n",
      "4\t\tA31Bee3c201ef58\t\tYesenia\t\tMartinez\t\tMale\t\tkaitlinkaiser@example.com\t\t584.094.6111\t\t2017-08-03\t\tMarket researcher\n",
      "5\t\t1bA7A3dc874da3c\t\tLori\t\tTodd\t\tMale\t\tbuchananmanuel@example.net\t\t689-207-3558x7233\t\t1938-12-01\t\tVeterinary surgeon\n",
      "6\t\tbfDD7CDEF5D865B\t\tErin\t\tDay\t\tMale\t\ttconner@example.org\t\t001-171-649-9856x5553\t\t2015-10-28\t\tWaste management officer\n",
      "7\t\tbE9EEf34cB72AF7\t\tKatherine\t\tBuck\t\tFemale\t\tconniecowan@example.com\t\t+1-773-151-6685x49162\t\t1989-01-22\t\tIntelligence analyst\n",
      "8\t\t2EFC6A4e77FaEaC\t\tRicardo\t\tHinton\t\tMale\t\twyattbishop@example.com\t\t001-447-699-7998x88612\t\t1924-03-26\t\tHydrogeologist\n",
      "9\t\tbaDcC4DeefD8dEB\t\tDave\t\tFarrell\t\tMale\t\tnmccann@example.net\t\t603-428-2429x27392\t\t2018-10-06\t\tLawyer\n",
      "10\t\t8e4FB470FE19bF0\t\tIsaiah\t\tDowns\t\tMale\t\tvirginiaterrell@example.org\t\t+1-511-372-1544x8206\t\t1964-09-20\t\t\"Engineer site\"\n"
     ]
    }
   ],
   "source": [
    "### Code Here\n",
    "def make_people_dict():\n",
    "    return\n",
    "\n",
    "people_dict = make_people_dict()"
   ]
  },
  {
   "cell_type": "markdown",
   "metadata": {},
   "source": [
    "#### <p style=\"font-family: Arial; font-size:1.4em; background-color: yellow; color:black;\"> Problem #3.2 </p>\n",
    "\n",
    "### Make the functions to rturn the person's DOB list with the following format: [ [YYYY, MM, DD], ... ] in ascending order of DOB\n",
    "\n",
    "\n",
    "```python\n",
    "def get_DOB_list(people_dict):\n",
    "    - people_dict is a list of dictionary that is output of Problem #3.1\n",
    "    - return the list of DOB in the format of [ [YYYY, MM, DD], ... ] in ascending order of DOB\n",
    "```\n"
   ]
  },
  {
   "cell_type": "code",
   "execution_count": 59,
   "metadata": {},
   "outputs": [
    {
     "name": "stdout",
     "output_type": "stream",
     "text": [
      "[[1910, 3, 24], [1924, 3, 26], [1938, 12, 1], [1945, 10, 26], [1964, 9, 20], [1989, 1, 22], [1992, 7, 2], [2015, 10, 28], [2017, 8, 3], [2018, 10, 6]]\n"
     ]
    }
   ],
   "source": [
    "### Code Here\n",
    "### Hint : Use the list comprehension and map, split, and sorted function\n",
    "### It could be a single line code\n",
    "def get_DOB_list(people_dict):\n",
    "    return\n",
    "\n",
    "get_DOB_list(people_dict)\n"
   ]
  },
  {
   "cell_type": "markdown",
   "metadata": {},
   "source": [
    "#### <p style=\"font-family: Arial; font-size:1.4em; background-color: yellow; color:black;\"> Problem #3.3 </p>\n",
    "\n",
    "### Make the functions to write the filtered list of dictionary to a file with the following format:\n",
    "\n",
    "```python\n",
    "def write_filtered_list(people_dict):\n",
    "    - people_dict is a list of dictionary that is output of Problem #3.1\n",
    "    - No return value\n",
    "    - Write the filtered list of dictionary to a file with the following format:\n",
    "        - Filter the person who has the email address ending with 'com' from the list\n",
    "        - Writing Format: First Name, Last Name, Email, DOB, JobTitle\n",
    "        - Requirement: Write all the filtered list by DOB in ascending order\n",
    "```\n",
    "#### Requirement:\n",
    "- File Name: people-3.3.txt\n",
    "- Output Format: First Name, Last Name, Email, DOB, JobTitle\n",
    "- Sorting Format: DOB in ascending order\n",
    "- Filtering Format: Email ending with 'com'\n",
    "- Input parameter: people_dict which is a list of dictionary that is output of Problem #3.1\n",
    "```\n",
    "Expected Output:\n",
    "```\n",
    "<table> <tr> <th>First Name</th> <th>Last Name</th> <th>Email</th> <th>Phone</th> <th>Date of Birth</th> <th>Occupation</th> </tr> <tr> <td>Phillip</td> <td>Summers</td> <td>bethany14@example.com</td> <td>214.112.6044x4913</td> <td>1910-03-24</td> <td>Phytotherapist</td> </tr> <tr> <td>Ricardo</td> <td>Hinton</td> <td>wyattbishop@example.com</td> <td>001-447-699-7998x88612</td> <td>1924-03-26</td> <td>Hydrogeologist</td> </tr> <tr> <td>Katherine</td> <td>Buck</td> <td>conniecowan@example.com</td> <td>+1-773-151-6685x49162</td> <td>1989-01-22</td> <td>Intelligence analyst</td> </tr> <tr> <td>Kristine</td> <td>Travis</td> <td>bthompson@example.com</td> <td>277.609.7938</td> <td>1992-07-02</td> <td>Homeopath</td> </tr> <tr> <td>Yesenia</td> <td>Martinez</td> <td>kaitlinkaiser@example.com</td> <td>584.094.6111</td> <td>2017-08-03</td> <td>Market researcher</td> </tr> </table>\n",
    "\n",
    "\n",
    "\n"
   ]
  },
  {
   "cell_type": "code",
   "execution_count": null,
   "metadata": {},
   "outputs": [],
   "source": [
    "### Code Here\n",
    "\n",
    "def write_filtered_list(people_dict):\n",
    "    return\n",
    "\n",
    "write_filtered_list(people_dict)\n"
   ]
  }
 ],
 "metadata": {
  "kernelspec": {
   "display_name": "base",
   "language": "python",
   "name": "python3"
  },
  "language_info": {
   "codemirror_mode": {
    "name": "ipython",
    "version": 3
   },
   "file_extension": ".py",
   "mimetype": "text/x-python",
   "name": "python",
   "nbconvert_exporter": "python",
   "pygments_lexer": "ipython3",
   "version": "3.11.9"
  },
  "orig_nbformat": 4
 },
 "nbformat": 4,
 "nbformat_minor": 2
}
